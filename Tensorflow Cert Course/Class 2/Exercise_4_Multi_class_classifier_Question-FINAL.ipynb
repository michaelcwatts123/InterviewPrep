{
 "cells": [
  {
   "cell_type": "code",
   "execution_count": 1,
   "metadata": {
    "colab": {},
    "colab_type": "code",
    "id": "wYtuKeK0dImp"
   },
   "outputs": [],
   "source": [
    "# ATTENTION: Please do not alter any of the provided code in the exercise. Only add your own code where indicated\n",
    "# ATTENTION: Please do not add or remove any cells in the exercise. The grader will check specific cells based on the cell position.\n",
    "# ATTENTION: Please use the provided epoch values when training.\n",
    "\n",
    "import csv\n",
    "import numpy as np\n",
    "import tensorflow as tf\n",
    "from tensorflow.keras.preprocessing.image import ImageDataGenerator\n",
    "from os import getcwd"
   ]
  },
  {
   "cell_type": "code",
   "execution_count": 2,
   "metadata": {
    "colab": {},
    "colab_type": "code",
    "id": "4kxw-_rmcnVu"
   },
   "outputs": [
    {
     "name": "stdout",
     "output_type": "stream",
     "text": [
      "(27455, 28, 28)\n",
      "(27455,)\n",
      "(7172, 28, 28)\n",
      "(7172,)\n"
     ]
    }
   ],
   "source": [
    "\n",
    "def get_data(filename):\n",
    "  # You will need to write code that will read the file passed\n",
    "  # into this function. The first line contains the column headers\n",
    "  # so you should ignore it\n",
    "  # Each successive line contians 785 comma separated values between 0 and 255\n",
    "  # The first value is the label\n",
    "  # The rest are the pixel values for that picture\n",
    "  # The function will return 2 np.array types. One with all the labels\n",
    "  # One with all the images\n",
    "  #\n",
    "  # Tips: \n",
    "  # If you read a full line (as 'row') then row[0] has the label\n",
    "  # and row[1:785] has the 784 pixel values\n",
    "  # Take a look at np.array_split to turn the 784 pixels into 28x28\n",
    "  # You are reading in strings, but need the values to be floats\n",
    "  # Check out np.array().astype for a conversion\n",
    "    with open(filename) as training_file:\n",
    "      # Your code starts here\n",
    "      csvReader = csv.reader(training_file, delimiter=',')\n",
    "      firstLine = True\n",
    "      images = []\n",
    "      labels = []\n",
    "\n",
    "      for row in csvReader:\n",
    "          if firstLine:\n",
    "              firstLine = False\n",
    "          else:\n",
    "              labels.append(row[0])\n",
    "              imageData = row[1:785]\n",
    "              imageDataArray = np.array_split(imageData, 28)\n",
    "              images.append(imageDataArray)\n",
    "      images = np.array(images).astype('float')\n",
    "      labels = np.array(labels).astype('float')\n",
    "      # Your code ends here\n",
    "    return images, labels\n",
    "\n",
    "path_sign_mnist_train = f\"{getcwd()}/../tmp2/sign_mnist_train.csv\"\n",
    "path_sign_mnist_test = f\"{getcwd()}/../tmp2/sign_mnist_test.csv\"\n",
    "training_images, training_labels = get_data(path_sign_mnist_train)\n",
    "testing_images, testing_labels = get_data(path_sign_mnist_test)\n",
    "\n",
    "# Keep these\n",
    "print(training_images.shape)\n",
    "print(training_labels.shape)\n",
    "print(testing_images.shape)\n",
    "print(testing_labels.shape)\n",
    "\n",
    "# Their output should be:\n",
    "# (27455, 28, 28)\n",
    "# (27455,)\n",
    "# (7172, 28, 28)\n",
    "# (7172,)"
   ]
  },
  {
   "cell_type": "code",
   "execution_count": 3,
   "metadata": {
    "colab": {},
    "colab_type": "code",
    "id": "awoqRpyZdQkD"
   },
   "outputs": [
    {
     "name": "stdout",
     "output_type": "stream",
     "text": [
      "(27455, 28, 28, 1)\n",
      "(7172, 28, 28, 1)\n"
     ]
    }
   ],
   "source": [
    "# In this section you will have to add another dimension to the data\n",
    "# So, for example, if your array is (10000, 28, 28)\n",
    "# You will need to make it (10000, 28, 28, 1)\n",
    "# Hint: np.expand_dims\n",
    "\n",
    "training_images = np.expand_dims(training_images, axis = 3)\n",
    "testing_images = np.expand_dims(testing_images, axis = 3)\n",
    "\n",
    "# Create an ImageDataGenerator and do Image Augmentation\n",
    "train_datagen = ImageDataGenerator(\n",
    "    rescale = 1./255.,\n",
    "   rotation_range = 40,\n",
    "   width_shift_range = 0.2,\n",
    "   height_shift_range = 0.2,\n",
    "   shear_range = 0.2,\n",
    "   zoom_range = 0.2,\n",
    "   horizontal_flip = True\n",
    "    )\n",
    "\n",
    "validation_datagen = ImageDataGenerator(\n",
    "    rescale = 1./255.)\n",
    "\n",
    "# Keep These\n",
    "print(training_images.shape)\n",
    "print(testing_images.shape)\n",
    "    \n",
    "# Their output should be:\n",
    "# (27455, 28, 28, 1)\n",
    "# (7172, 28, 28, 1)"
   ]
  },
  {
   "cell_type": "code",
   "execution_count": 7,
   "metadata": {
    "colab": {},
    "colab_type": "code",
    "id": "Rmb7S32cgRqS"
   },
   "outputs": [
    {
     "name": "stdout",
     "output_type": "stream",
     "text": [
      "Epoch 1/15\n",
      "916/915 [==============================] - 85s 93ms/step - loss: 2.6493 - accuracy: 0.1965 - val_loss: 1.8069 - val_accuracy: 0.4031\n",
      "Epoch 2/15\n",
      "916/915 [==============================] - 80s 87ms/step - loss: 1.8582 - accuracy: 0.4083 - val_loss: 1.1309 - val_accuracy: 0.6065\n",
      "Epoch 3/15\n",
      "916/915 [==============================] - 79s 86ms/step - loss: 1.4199 - accuracy: 0.5389 - val_loss: 0.7281 - val_accuracy: 0.7448\n",
      "Epoch 4/15\n",
      "916/915 [==============================] - 82s 90ms/step - loss: 1.1636 - accuracy: 0.6196 - val_loss: 0.6040 - val_accuracy: 0.8012\n",
      "Epoch 5/15\n",
      "916/915 [==============================] - 82s 90ms/step - loss: 0.9851 - accuracy: 0.6757 - val_loss: 0.5261 - val_accuracy: 0.8486\n",
      "Epoch 6/15\n",
      "916/915 [==============================] - 79s 86ms/step - loss: 0.8588 - accuracy: 0.7150 - val_loss: 0.3572 - val_accuracy: 0.8737\n",
      "Epoch 7/15\n",
      "916/915 [==============================] - 81s 89ms/step - loss: 0.7701 - accuracy: 0.7437 - val_loss: 0.3294 - val_accuracy: 0.8661\n",
      "Epoch 8/15\n",
      "916/915 [==============================] - 79s 87ms/step - loss: 0.7067 - accuracy: 0.7655 - val_loss: 0.2496 - val_accuracy: 0.9030\n",
      "Epoch 9/15\n",
      "916/915 [==============================] - 80s 87ms/step - loss: 0.6544 - accuracy: 0.7872 - val_loss: 0.3091 - val_accuracy: 0.8857\n",
      "Epoch 10/15\n",
      "916/915 [==============================] - 81s 89ms/step - loss: 0.6153 - accuracy: 0.7978 - val_loss: 0.2129 - val_accuracy: 0.9198\n",
      "Epoch 11/15\n",
      "916/915 [==============================] - 86s 94ms/step - loss: 0.5684 - accuracy: 0.8148 - val_loss: 0.2109 - val_accuracy: 0.9179\n",
      "Epoch 12/15\n",
      "916/915 [==============================] - 81s 89ms/step - loss: 0.5514 - accuracy: 0.8203 - val_loss: 0.1713 - val_accuracy: 0.9306\n",
      "Epoch 13/15\n",
      "916/915 [==============================] - 82s 89ms/step - loss: 0.5383 - accuracy: 0.8271 - val_loss: 0.1419 - val_accuracy: 0.9502\n",
      "Epoch 14/15\n",
      "916/915 [==============================] - 81s 88ms/step - loss: 0.5141 - accuracy: 0.8336 - val_loss: 0.1159 - val_accuracy: 0.9575\n",
      "Epoch 15/15\n",
      "916/915 [==============================] - 84s 92ms/step - loss: 0.5077 - accuracy: 0.8345 - val_loss: 0.1540 - val_accuracy: 0.9430\n"
     ]
    },
    {
     "data": {
      "text/plain": [
       "[181.59852015446899, 0.56873953]"
      ]
     },
     "execution_count": 7,
     "metadata": {},
     "output_type": "execute_result"
    }
   ],
   "source": [
    "training = train_datagen.flow(training_images, training_labels, batch_size=30)\n",
    "valid = validation_datagen.flow(testing_images, testing_labels, batch_size=30)\n",
    "\n",
    "# Define the model\n",
    "# Use no more than 2 Conv2D and 2 MaxPooling2D\n",
    "from tensorflow.keras.optimizers import RMSprop\n",
    "model = tf.keras.models.Sequential([\n",
    "        tf.keras.layers.Conv2D(64, (3,3), activation = 'relu', input_shape=(28,28,1)),\n",
    "        tf.keras.layers.MaxPooling2D(2,2),\n",
    "        tf.keras.layers.Conv2D(64, (3,3), activation = 'relu'),\n",
    "        tf.keras.layers.MaxPooling2D(2,2),\n",
    "        tf.keras.layers.Dropout(.2),\n",
    "        tf.keras.layers.Flatten(),\n",
    "        tf.keras.layers.Dense(512, activation = 'relu'),\n",
    "        tf.keras.layers.Dense(26, activation = 'softmax')\n",
    "])\n",
    "\n",
    "# Compile Model. \n",
    "model.compile(loss='sparse_categorical_crossentropy',\n",
    "              optimizer=RMSprop(lr=0.001),\n",
    "              metrics=['accuracy'])\n",
    "\n",
    "#Train the Model\n",
    "history = model.fit_generator(training,\n",
    "    steps_per_epoch = len(training_images)/30,\n",
    "    epochs = 15,\n",
    "    validation_data = valid,\n",
    "                        validation_steps = len(testing_images)/30)\n",
    "\n",
    "\n",
    "\n",
    "model.evaluate(testing_images, testing_labels, verbose=0)"
   ]
  },
  {
   "cell_type": "code",
   "execution_count": 9,
   "metadata": {
    "colab": {},
    "colab_type": "code",
    "id": "_Q3Zpr46dsij"
   },
   "outputs": [
    {
     "data": {
      "image/png": "[encoded data removed]",
      "text/plain": [
       "<Figure size 432x288 with 1 Axes>"
      ]
     },
     "metadata": {
      "needs_background": "light"
     },
     "output_type": "display_data"
    },
    {
     "data": {
      "image/png": "[encoded data removed]",
      "text/plain": [
       "<Figure size 432x288 with 1 Axes>"
      ]
     },
     "metadata": {
      "needs_background": "light"
     },
     "output_type": "display_data"
    }
   ],
   "source": [
    "# Plot the chart for accuracy and loss on both training and validation\n",
    "%matplotlib inline\n",
    "import matplotlib.pyplot as plt\n",
    "acc = history.history['accuracy']\n",
    "val_acc = history.history['val_accuracy']\n",
    "loss = history.history['loss']\n",
    "val_loss = history.history['val_loss']\n",
    "\n",
    "epochs = range(len(acc))\n",
    "\n",
    "plt.plot(epochs, acc, 'r', label='Training accuracy')\n",
    "plt.plot(epochs, val_acc, 'b', label='Validation accuracy')\n",
    "plt.title('Training and validation accuracy')\n",
    "plt.legend()\n",
    "plt.figure()\n",
    "\n",
    "plt.plot(epochs, loss, 'r', label='Training Loss')\n",
    "plt.plot(epochs, val_loss, 'b', label='Validation Loss')\n",
    "plt.title('Training and validation loss')\n",
    "plt.legend()\n",
    "\n",
    "plt.show()"
   ]
  },
  {
   "cell_type": "markdown",
   "metadata": {},
   "source": [
    "# Submission Instructions"
   ]
  },
  {
   "cell_type": "code",
   "execution_count": null,
   "metadata": {},
   "outputs": [],
   "source": [
    "# Now click the 'Submit Assignment' button above."
   ]
  },
  {
   "cell_type": "markdown",
   "metadata": {},
   "source": [
    "# When you're done or would like to take a break, please run the two cells below to save your work and close the Notebook. This will free up resources for your fellow learners. "
   ]
  },
  {
   "cell_type": "code",
   "execution_count": null,
   "metadata": {},
   "outputs": [],
   "source": [
    "%%javascript\n",
    "<!-- Save the notebook -->\n",
    "IPython.notebook.save_checkpoint();"
   ]
  },
  {
   "cell_type": "code",
   "execution_count": null,
   "metadata": {},
   "outputs": [],
   "source": [
    "%%javascript\n",
    "IPython.notebook.session.delete();\n",
    "window.onbeforeunload = null\n",
    "setTimeout(function() { window.close(); }, 1000);"
   ]
  }
 ],
 "metadata": {
  "colab": {
   "name": "Exercise 8 - Question.ipynb",
   "provenance": []
  },
  "coursera": {
   "course_slug": "convolutional-neural-networks-tensorflow",
   "graded_item_id": "8mIh8",
   "launcher_item_id": "gg95t"
  },
  "kernelspec": {
   "display_name": "Python 3",
   "language": "python",
   "name": "python3"
  },
  "language_info": {
   "codemirror_mode": {
    "name": "ipython",
    "version": 3
   },
   "file_extension": ".py",
   "mimetype": "text/x-python",
   "name": "python",
   "nbconvert_exporter": "python",
   "pygments_lexer": "ipython3",
   "version": "3.6.8"
  }
 },
 "nbformat": 4,
 "nbformat_minor": 1
}
